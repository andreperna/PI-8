{
 "cells": [
  {
   "cell_type": "code",
   "execution_count": null,
   "metadata": {},
   "outputs": [],
   "source": []
  },
  {
   "cell_type": "code",
   "execution_count": 101,
   "metadata": {},
   "outputs": [
    {
     "data": {
      "text/plain": [
       "0        2021-12-11\n",
       "1        2021-09-04\n",
       "2        2022-04-15\n",
       "3        2022-05-17\n",
       "4        2021-10-02\n",
       "            ...    \n",
       "61945    2022-01-15\n",
       "61946    2022-05-30\n",
       "61947    2022-01-18\n",
       "61948    2021-09-23\n",
       "61949    2021-09-15\n",
       "Length: 61950, dtype: object"
      ]
     },
     "execution_count": 101,
     "metadata": {},
     "output_type": "execute_result"
    }
   ],
   "source": [
    "# gerar 61950 datas de ocorrências disribuídas durante um ano\n",
    "\n",
    "import pandas as pd\n",
    "from datetime import date\n",
    "from datetime import timedelta\n",
    "\n",
    "# configuração inicial\n",
    "data_inicial = date(2021, 6, 15)\n",
    "data_final = date(2022, 6, 15)\n",
    "amostra = 61950\n",
    "\n",
    "# gera lista de datas\n",
    "lista_datas = []\n",
    "data_atual = data_inicial\n",
    "while data_atual <= data_final:\n",
    "    lista_datas.append(data_atual)\n",
    "    data_atual += timedelta(days=1)\n",
    "\n",
    "# ajusta lista de datas\n",
    "fator_multiplicador = round((amostra / len(lista_datas))+0.5)\n",
    "lista_datas_ajustada = lista_datas * fator_multiplicador\n",
    "\n",
    "# gera serie de datas\n",
    "serie_datas = pd.Series(lista_datas_ajustada)\n",
    "serie_datas = serie_datas.sample(n=61950, random_state=1)\n",
    "serie_datas.reset_index(drop=True, inplace=True)\n",
    "serie_datas\n"
   ]
  },
  {
   "cell_type": "code",
   "execution_count": 103,
   "metadata": {},
   "outputs": [
    {
     "data": {
      "text/html": [
       "<div>\n",
       "<style scoped>\n",
       "    .dataframe tbody tr th:only-of-type {\n",
       "        vertical-align: middle;\n",
       "    }\n",
       "\n",
       "    .dataframe tbody tr th {\n",
       "        vertical-align: top;\n",
       "    }\n",
       "\n",
       "    .dataframe thead th {\n",
       "        text-align: right;\n",
       "    }\n",
       "</style>\n",
       "<table border=\"1\" class=\"dataframe\">\n",
       "  <thead>\n",
       "    <tr style=\"text-align: right;\">\n",
       "      <th></th>\n",
       "      <th>id</th>\n",
       "      <th>pessoa_id</th>\n",
       "      <th>data_ocorrencia</th>\n",
       "    </tr>\n",
       "  </thead>\n",
       "  <tbody>\n",
       "    <tr>\n",
       "      <th>0</th>\n",
       "      <td>1</td>\n",
       "      <td>1</td>\n",
       "      <td>2021-12-11</td>\n",
       "    </tr>\n",
       "    <tr>\n",
       "      <th>1</th>\n",
       "      <td>2</td>\n",
       "      <td>2</td>\n",
       "      <td>2021-09-04</td>\n",
       "    </tr>\n",
       "    <tr>\n",
       "      <th>2</th>\n",
       "      <td>3</td>\n",
       "      <td>3</td>\n",
       "      <td>2022-04-15</td>\n",
       "    </tr>\n",
       "    <tr>\n",
       "      <th>3</th>\n",
       "      <td>4</td>\n",
       "      <td>4</td>\n",
       "      <td>2022-05-17</td>\n",
       "    </tr>\n",
       "    <tr>\n",
       "      <th>4</th>\n",
       "      <td>5</td>\n",
       "      <td>5</td>\n",
       "      <td>2021-10-02</td>\n",
       "    </tr>\n",
       "    <tr>\n",
       "      <th>...</th>\n",
       "      <td>...</td>\n",
       "      <td>...</td>\n",
       "      <td>...</td>\n",
       "    </tr>\n",
       "    <tr>\n",
       "      <th>61945</th>\n",
       "      <td>61946</td>\n",
       "      <td>61946</td>\n",
       "      <td>2022-01-15</td>\n",
       "    </tr>\n",
       "    <tr>\n",
       "      <th>61946</th>\n",
       "      <td>61947</td>\n",
       "      <td>61947</td>\n",
       "      <td>2022-05-30</td>\n",
       "    </tr>\n",
       "    <tr>\n",
       "      <th>61947</th>\n",
       "      <td>61948</td>\n",
       "      <td>61948</td>\n",
       "      <td>2022-01-18</td>\n",
       "    </tr>\n",
       "    <tr>\n",
       "      <th>61948</th>\n",
       "      <td>61949</td>\n",
       "      <td>61949</td>\n",
       "      <td>2021-09-23</td>\n",
       "    </tr>\n",
       "    <tr>\n",
       "      <th>61949</th>\n",
       "      <td>61950</td>\n",
       "      <td>61950</td>\n",
       "      <td>2021-09-15</td>\n",
       "    </tr>\n",
       "  </tbody>\n",
       "</table>\n",
       "<p>61950 rows × 3 columns</p>\n",
       "</div>"
      ],
      "text/plain": [
       "          id  pessoa_id data_ocorrencia\n",
       "0          1          1      2021-12-11\n",
       "1          2          2      2021-09-04\n",
       "2          3          3      2022-04-15\n",
       "3          4          4      2022-05-17\n",
       "4          5          5      2021-10-02\n",
       "...      ...        ...             ...\n",
       "61945  61946      61946      2022-01-15\n",
       "61946  61947      61947      2022-05-30\n",
       "61947  61948      61948      2022-01-18\n",
       "61948  61949      61949      2021-09-23\n",
       "61949  61950      61950      2021-09-15\n",
       "\n",
       "[61950 rows x 3 columns]"
      ]
     },
     "execution_count": 103,
     "metadata": {},
     "output_type": "execute_result"
    }
   ],
   "source": [
    "# criar dataframe\n",
    "serie_id = pd.Series(range(61950))+1\n",
    "serie_pessoa_id = serie_id\n",
    "\n",
    "df_ocorrencias = pd.DataFrame({'id':serie_id, 'pessoa_id':serie_pessoa_id, 'data_ocorrencia':serie_datas})\n",
    "df_ocorrencias\n"
   ]
  },
  {
   "cell_type": "code",
   "execution_count": 107,
   "metadata": {},
   "outputs": [],
   "source": [
    "# exportar para csv\n",
    "\n",
    "df_ocorrencias.to_csv('../out/ocorrencias.csv', sep=';', encoding='iso-8859-1', index=False)"
   ]
  }
 ],
 "metadata": {
  "kernelspec": {
   "display_name": "Python 3.9.7 64-bit",
   "language": "python",
   "name": "python3"
  },
  "language_info": {
   "codemirror_mode": {
    "name": "ipython",
    "version": 3
   },
   "file_extension": ".py",
   "mimetype": "text/x-python",
   "name": "python",
   "nbconvert_exporter": "python",
   "pygments_lexer": "ipython3",
   "version": "3.9.7"
  },
  "orig_nbformat": 4,
  "vscode": {
   "interpreter": {
    "hash": "ae1235dea4a550a13d7fd69d3e300d1b1485a3c86a142bf311a86c6b36ff6ecb"
   }
  }
 },
 "nbformat": 4,
 "nbformat_minor": 2
}
