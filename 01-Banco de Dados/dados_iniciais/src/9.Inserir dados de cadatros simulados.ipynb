{
 "cells": [
  {
   "cell_type": "markdown",
   "id": "9cad9740-284a-453e-b8ae-e54a71643a2a",
   "metadata": {
    "tags": []
   },
   "source": [
    "# 9.Inserir dados de cadatros simulados"
   ]
  },
  {
   "cell_type": "markdown",
   "id": "f17599ac-746f-4ced-90f1-21b41cd5428d",
   "metadata": {
    "tags": []
   },
   "source": [
    "## 9.1.Criar tabela pessoas.csv e importar para o banco de dados\n",
    "\n",
    "Para criação destes dados simulados, será utilizada uma base de dados de ceps, do ano de 2018, disponivel no site [http://cep.la](http://cep.la/baixar).\n",
    "\n",
    "Segundo esse site, a base de dados possui o total de 732.763 ceps, obtidos um por um do [site oficial dos correios](http://www.buscacep.correios.com.br/sistemas/buscacep/BuscaCepEndereco.cfm), no ano de 2018, e possui os seguintes campos:\n",
    "\n",
    "- CEP\n",
    "\n",
    "- Estado\n",
    "\n",
    "- Cidade\n",
    "\n",
    "- Bairro\n",
    "\n",
    "- Logradouro\n",
    "\n",
    "Para criação da tabela de cadastro de pessoas, serão utilizados dados aleatórios, tendo os seguintes escopos:\n",
    "\n",
    "- **Global:** Cadastros dentre todos os disponíveis na base.\n",
    "\n",
    "- **Estado SP:** Cadastros apenas no estado de São Paulo\n",
    "\n",
    "- **Sertãozinho:** Cadastros apenas na cidade de Sertãozinho\n",
    "\n",
    "- **Ribeirão Preto:** Cadastros apenas na cidade de Ribeirão Preto\n",
    "\n",
    "- **Americana:** Cadastros apenas na cidade de Americana\n",
    "\n",
    "- **Americana-Bom Jesus:** Cadastros nas seguintes ruas do bairro Bom Jesus, na cidade de Americana:\n",
    "  \n",
    "  - Rua Italianos\n",
    "  - Rua Castro Alves\n",
    "  - Rua Oswaldo Cruz\n",
    "  - Rua Marconi\n",
    "  - Rua Carolina Augusta\n",
    "\n",
    "- **Americana-Jardim Esperança:** Cadastros nas seguintes ruas do bairro Jardim Esperança, na cidade de Americana:\n",
    "  \n",
    "  - Rua Odpheu Ghirardello\n",
    "  - Rua Sebastião Boava\n",
    "  - Rua Maria Mafei de Souza Campos\n",
    "  - Rua Maestro Rubens Parada\n",
    "  - Rua José Benedito Carneiro\n",
    "\n",
    "- **Americana-Jardim São João:** Cadastros nas seguintes ruas do bairro Jardim São João, na cidade de Americana:\n",
    "  \n",
    "  - Rua Catanduva\n",
    "  - Rua Bauru\n",
    "  - Rua Piracicaba\n",
    "  - Rua Araraquara\n",
    "  - Rua Ribeirão preto\n",
    "\n",
    "- **Americana-Jardim Buzolin:** Cadastros nas seguintes ruas do bairro Jardim Buzolin, na cidade de Americana:\n",
    "  \n",
    "  - Rua Moacyr Mathiensen\n",
    "  - Rua Achiles Bovo\n",
    "  - Rua Manoel Buzolin\n",
    "  - Rua João Private\n",
    "  - Rua Paulo Butafa\n",
    "\n",
    "A quantidade de cadastros será conforme a tabela abaixo:\n",
    "\n",
    "| Escopo                     | Cadastros Simulados |\n",
    "|:-------------------------- |:-------------------:|\n",
    "| Global                     | 50000               |\n",
    "| Estado SP                  | 10000               |\n",
    "| Sertãozinho                | 250                 |\n",
    "| Ribeirão Preto             | 1000                |\n",
    "| Americana                  | 500                 |\n",
    "| Americana-Bom Jesus        | 50                  |\n",
    "| Americana-Jardim Esperança | 50                  |\n",
    "| Americana-Jardim São João  | 50                  |\n",
    "| Americana-Jardim Buzolin   | 50                  |\n",
    "\n",
    "Totalizando **61.950** cadastros\n",
    "\n",
    "Segue abaixo uma imagem representando essa distribuição:\n",
    "\n",
    "<!-- ![](../../img/treemap.png) -->"
   ]
  },
  {
   "cell_type": "code",
   "execution_count": 1,
   "id": "696f902f-d5ef-4c17-a6c8-73191f59b25f",
   "metadata": {},
   "outputs": [],
   "source": [
    "# !pip install cpf"
   ]
  },
  {
   "cell_type": "code",
   "execution_count": null,
   "id": "aa4ea31a-38b9-43bb-a0e1-67f667215af8",
   "metadata": {},
   "outputs": [],
   "source": [
    "import cpf\n",
    "\n",
    "cpf.gerar(10000, 8)"
   ]
  }
 ],
 "metadata": {
  "kernelspec": {
   "display_name": "Python 3 (ipykernel)",
   "language": "python",
   "name": "python3"
  },
  "language_info": {
   "codemirror_mode": {
    "name": "ipython",
    "version": 3
   },
   "file_extension": ".py",
   "mimetype": "text/x-python",
   "name": "python",
   "nbconvert_exporter": "python",
   "pygments_lexer": "ipython3",
   "version": "3.10.4"
  }
 },
 "nbformat": 4,
 "nbformat_minor": 5
}
