{
 "cells": [
  {
   "cell_type": "code",
   "execution_count": 1,
   "id": "696f902f-d5ef-4c17-a6c8-73191f59b25f",
   "metadata": {},
   "outputs": [
    {
     "name": "stdout",
     "output_type": "stream",
     "text": [
      "Collecting cpf\n",
      "  Downloading cpf-2.1.tar.gz (4.9 kB)\n",
      "  Preparing metadata (setup.py): started\n",
      "  Preparing metadata (setup.py): finished with status 'done'\n",
      "Using legacy 'setup.py install' for cpf, since package 'wheel' is not installed.\n",
      "Installing collected packages: cpf\n",
      "  Running setup.py install for cpf: started\n",
      "  Running setup.py install for cpf: finished with status 'done'\n",
      "Successfully installed cpf-2.1\n"
     ]
    },
    {
     "name": "stderr",
     "output_type": "stream",
     "text": [
      "WARNING: There was an error checking the latest version of pip.\n"
     ]
    }
   ],
   "source": [
    "# !pip install cpf"
   ]
  },
  {
   "cell_type": "code",
   "execution_count": null,
   "id": "aa4ea31a-38b9-43bb-a0e1-67f667215af8",
   "metadata": {},
   "outputs": [],
   "source": [
    "import cpf\n",
    "\n",
    "cpf.gerar(10000, 8)"
   ]
  }
 ],
 "metadata": {
  "kernelspec": {
   "display_name": "Python 3 (ipykernel)",
   "language": "python",
   "name": "python3"
  },
  "language_info": {
   "codemirror_mode": {
    "name": "ipython",
    "version": 3
   },
   "file_extension": ".py",
   "mimetype": "text/x-python",
   "name": "python",
   "nbconvert_exporter": "python",
   "pygments_lexer": "ipython3",
   "version": "3.10.4"
  }
 },
 "nbformat": 4,
 "nbformat_minor": 5
}
