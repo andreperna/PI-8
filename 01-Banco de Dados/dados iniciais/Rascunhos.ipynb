{
 "cells": [
  {
   "cell_type": "code",
   "execution_count": null,
   "id": "9c2c016c",
   "metadata": {},
   "outputs": [],
   "source": [
    "import pandas as pd"
   ]
  },
  {
   "cell_type": "code",
   "execution_count": null,
   "id": "264c1027",
   "metadata": {},
   "outputs": [],
   "source": [
    "# testando pandas.merge\n",
    "# https://estatsite.com.br/2019/04/30/join-merge-no-python-pandas\n",
    "# https://pandas.pydata.org/docs/reference/api/pandas.merge.html?highlight=merge#pandas.merge\n",
    "\n",
    "dados1 = {\n",
    "        \"cidade\": [\"cidade1\", \"cidade2\", \"cidade3\", \"cidade4\", \"cidade5\"],\n",
    "        \"estado\": [\"sao paulo\", \"rio\", \"sao paulo\", \"rio\", \"sao paulo\"],\n",
    "        }\n",
    "\n",
    "dados2 = {\n",
    "    \"estado\": [\"sao paulo\", \"rio\"],\n",
    "    \"uf\":[\"sp\", 'rj']\n",
    "}\n",
    "\n",
    "df1 = pd.DataFrame(data=dados1)\n",
    "df2 = pd.DataFrame(data=dados2)\n",
    "\n",
    "display(df1)\n",
    "display(df2)\n",
    "\n",
    "df3 = pd.merge(df1,df2, how=\"left\", on=\"estado\", )\n",
    "display(df3)"
   ]
  },
  {
   "cell_type": "code",
   "execution_count": null,
   "id": "c4d82e59",
   "metadata": {},
   "outputs": [],
   "source": [
    "# Importar o módulo\n",
    "import json\n",
    "\n",
    "# String em formato JSON\n",
    "data_JSON =  \"\"\"\n",
    "{\n",
    "\t\"size\": \"Medium\",\n",
    "\t\"price\": 15.67,\n",
    "\t\"toppings\": [\"Mushrooms\", \"Extra Cheese\", \"Pepperoni\", \"Basil\"],\n",
    "\t\"client\": {\n",
    "\t\t\"name\": \"Jane Doe\",\n",
    "\t\t\"phone\": \"455-344-234\",\n",
    "\t\t\"email\": \"janedoe@email.com\"\n",
    "\t}\n",
    "}\n",
    "\"\"\"\n",
    "\n",
    "# Converter a string em JSON em um dicionário\n",
    "data_dict = json.loads(data_JSON)\n",
    "\n",
    "data_dict"
   ]
  },
  {
   "cell_type": "code",
   "execution_count": null,
   "id": "8f15ccb7",
   "metadata": {},
   "outputs": [],
   "source": [
    "data_dict[\"client\"]\n",
    "\n",
    "my_dict = [{'nome':'carlos', 'idade':10},{'nome':'augusto', 'idade':20}, {'nome':'augusto2', 'idade':25}, {'nome':'augusto2', 'idade':25}]\n",
    "type(my_dict[0])\n",
    "len(my_dict)\n",
    "\n",
    "index = [1,2,3]\n",
    "index = list(range(1,len(my_dict)+1))\n",
    "df = pd.DataFrame(my_dict, index=index)\n",
    "df.columns=['NOME', 'IDADE']\n",
    "display(df)"
   ]
  }
 ],
 "metadata": {
  "kernelspec": {
   "display_name": "Python 3 (ipykernel)",
   "language": "python",
   "name": "python3"
  },
  "language_info": {
   "codemirror_mode": {
    "name": "ipython",
    "version": 3
   },
   "file_extension": ".py",
   "mimetype": "text/x-python",
   "name": "python",
   "nbconvert_exporter": "python",
   "pygments_lexer": "ipython3",
   "version": "3.9.7"
  }
 },
 "nbformat": 4,
 "nbformat_minor": 5
}
