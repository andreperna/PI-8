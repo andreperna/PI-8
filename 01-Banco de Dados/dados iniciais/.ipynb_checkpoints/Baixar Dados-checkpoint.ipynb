{
 "cells": [
  {
   "cell_type": "markdown",
   "id": "b9ed370c-c743-4e59-b937-bc9257ed83ed",
   "metadata": {},
   "source": [
    "# 1. Criar um caminho (path) para pasta de Downloads"
   ]
  },
  {
   "cell_type": "code",
   "execution_count": 1,
   "id": "da1bcdfb-9cb1-4e28-af1f-2eec31b5ca5c",
   "metadata": {},
   "outputs": [],
   "source": [
    "import os\n",
    "\n",
    "nome_pasta = \"Downloads\"\n",
    "\n",
    "caminho_atual = os.path.normpath(os.getcwd())\n",
    "caminho_downloads = os.path.join(caminho_atual, nome_pasta)\n",
    "\n",
    "# verifica se exite a pasta Downloads. Caso não exista, será criada.\n",
    "if not os.path.exists(caminho_downloads):\n",
    "    # cria pasta Downloads\n",
    "    os.mkdir(caminho_downloads)\n"
   ]
  },
  {
   "cell_type": "markdown",
   "id": "6e0d6a40-cde0-40eb-9fdf-e957eaeb9a1a",
   "metadata": {},
   "source": [
    "# 2. Realizar o download de base de dados ZIP do IBGE\n",
    "(https://www.ibge.gov.br/explica/codigos-dos-municipios.php)\n",
    "\n",
    "O IBGE disponibiliza, [neste link](https://www.ibge.gov.br/explica/codigos-dos-municipios.php), o download da tabela de códigos dos municípios.\n",
    "\n",
    "Texto retirado do site:\n",
    "> A Tabela de Códigos de Municípios do IBGE apresenta a lista dos municípios brasileiros associados a um código composto de 7 dígitos, sendo os dois primeiros referentes ao código da Unidade da Federação.\n",
    "É atualizada sistematicamente de forma a incluir as alterações decorrentes do desdobramento de municípios e, conseqüentemente, da criação de novos municípios, mudanças de nome dos municípios, como também de processos de fusão que resultam na extinção ou modificação de nome de algum município. "
   ]
  },
  {
   "cell_type": "markdown",
   "id": "fc6029a1",
   "metadata": {},
   "source": [
    "## Opção 1: Utilizando biblioteca padrão (urllib)"
   ]
  },
  {
   "cell_type": "code",
   "execution_count": 2,
   "id": "b2ac5135-e64e-4437-8ea4-79de9cb93714",
   "metadata": {},
   "outputs": [],
   "source": [
    "# import os\n",
    "from urllib import request\n",
    "\n",
    "endereco_download = \"https://geoftp.ibge.gov.br/organizacao_do_territorio/estrutura_territorial/divisao_territorial/2021/DTB_2021.zip\"\n",
    "nome_arquivo_zip = \"DTB_2021.zip\"\n",
    "# os.path.basename(endereco_download) para manter o nome original do arquivo\n",
    "caminho_para_salvar = os.path.join(caminho_downloads, nome_arquivo_zip)\n",
    "\n",
    "caminho_arquivo_zip, http_message = request.urlretrieve(endereco_download, caminho_para_salvar)\n"
   ]
  },
  {
   "cell_type": "markdown",
   "id": "8f5defa8",
   "metadata": {},
   "source": [
    "## Opção 2: Utilizando biblioteca Requests"
   ]
  },
  {
   "cell_type": "code",
   "execution_count": 3,
   "id": "9ae9581d",
   "metadata": {},
   "outputs": [],
   "source": [
    "# !pip install requests\n",
    "import requests\n",
    "\n",
    "endereco_download = \"https://geoftp.ibge.gov.br/organizacao_do_territorio/estrutura_territorial/divisao_territorial/2021/DTB_2021.zip\"\n",
    "nome_arquivo_zip = \"DTB_2021.zip\"\n",
    "# os.path.basename(endereco_download) para manter o nome original do arquivo\n",
    "caminho_para_salvar = os.path.join(caminho_downloads, nome_arquivo_zip)\n",
    "\n",
    "resposta = requests.get(endereco_download)\n",
    "with open(caminho_para_salvar, \"wb\") as arquivo_novo:\n",
    "    arquivo_novo.write(resposta.content)\n"
   ]
  },
  {
   "cell_type": "markdown",
   "id": "ec2002a6-fec7-4a0b-8146-345ea5785eea",
   "metadata": {},
   "source": [
    "# 3. Extrair arquivo dos municípios da base de dados ZIP\n",
    "(RELATORIO_DTB_BRASIL_MUNICIPIO.xls) "
   ]
  },
  {
   "cell_type": "code",
   "execution_count": 4,
   "id": "263e6a21-6202-45ff-af06-05cd5a3f1362",
   "metadata": {},
   "outputs": [],
   "source": [
    "# import os\n",
    "import zipfile\n",
    "\n",
    "nome_arquivo_zip = \"DTB_2021.zip\"\n",
    "caminho_arquivo_zip = os.path.join(caminho_downloads, nome_arquivo_zip)\n",
    "nome_arquivo_excel = \"RELATORIO_DTB_BRASIL_MUNICIPIO.xls\"\n",
    "caminho_arquivo_excel = os.path.join(caminho_downloads, nome_arquivo_excel)\n",
    "\n",
    "# apaga arquivo, se existir.\n",
    "if os.path.exists(caminho_arquivo_excel):\n",
    "    os.remove(caminho_arquivo_excel)\n",
    "\n",
    "with zipfile.ZipFile(caminho_arquivo_zip, \"r\") as arquivo_zip:\n",
    "    lista_arquivos = arquivo_zip.infolist()\n",
    "    filtra_arquivos = filter(lambda arquivo : arquivo.filename == nome_arquivo_excel, lista_arquivos)\n",
    "    zipinfo_arquivo_excel = list(filtra_arquivos)[0]\n",
    "    # extrai o arquivo excel\n",
    "    arquivo_zip.extract(zipinfo_arquivo_excel, caminho_downloads)\n"
   ]
  },
  {
   "cell_type": "markdown",
   "id": "dfcfee8c-41e9-4cd6-a939-313ed4656c76",
   "metadata": {
    "tags": []
   },
   "source": [
    "# 4. Gerar lista de Estados"
   ]
  },
  {
   "cell_type": "markdown",
   "id": "a2d429d3-b9ab-420d-bbae-4e0d3ba79adf",
   "metadata": {},
   "source": [
    "## Opção 1: Consultando API do IBGE\n",
    "\n",
    "O IBGE disponibiliza uma api para consulta de localidades.\n",
    "A apresentação e funcionamento/recursos desta api poem ser vistos em [https://servicodados.ibge.gov.br/api/docs/localidades](https://servicodados.ibge.gov.br/api/docs/localidades)"
   ]
  },
  {
   "cell_type": "markdown",
   "id": "2afbfdcc",
   "metadata": {},
   "source": [
    "### 4.1. Baixar Json"
   ]
  },
  {
   "cell_type": "markdown",
   "id": "8af5394d",
   "metadata": {},
   "source": [
    "#### Opção 1: Utilizando biblioteca padrão (urllib)"
   ]
  },
  {
   "cell_type": "code",
   "execution_count": 22,
   "id": "2a3a46aa-560d-4e43-83ae-6737bf98f0d8",
   "metadata": {},
   "outputs": [
    {
     "data": {
      "text/plain": [
       "'[{\"id\":11,\"sigla\":\"RO\",\"nome\":\"Rondônia\",\"regiao\":{\"id\":1,\"sigla\":\"N\",\"nome\":\"Norte\"}},{\"id\":12,\"sigla\":\"AC\",\"nome\":\"Acre\",\"regiao\":{\"id\":1,\"sigla\":\"N\",\"nome\":\"Norte\"}},{\"id\":13,\"sigla\":\"AM\",\"nome\":\"Amazonas\",\"regiao\":{\"id\":1,\"sigla\":\"N\",\"nome\":\"Norte\"}},{\"id\":14,\"sigla\":\"RR\",\"nome\":\"Roraima\",\"regiao\":{\"id\":1,\"sigla\":\"N\",\"nome\":\"Norte\"}},{\"id\":15,\"sigla\":\"PA\",\"nome\":\"Pará\",\"regiao\":{\"id\":1,\"sigla\":\"N\",\"nome\":\"Norte\"}},{\"id\":16,\"sigla\":\"AP\",\"nome\":\"Amapá\",\"regiao\":{\"id\":1,\"sigla\":\"N\",\"nome\":\"Norte\"}},{\"id\":17,\"sigla\":\"TO\",\"nome\":\"Tocantins\",\"regiao\":{\"id\":1,\"sigla\":\"N\",\"nome\":\"Norte\"}},{\"id\":21,\"sigla\":\"MA\",\"nome\":\"Maranhão\",\"regiao\":{\"id\":2,\"sigla\":\"NE\",\"nome\":\"Nordeste\"}},{\"id\":22,\"sigla\":\"PI\",\"nome\":\"Piauí\",\"regiao\":{\"id\":2,\"sigla\":\"NE\",\"nome\":\"Nordeste\"}},{\"id\":23,\"sigla\":\"CE\",\"nome\":\"Ceará\",\"regiao\":{\"id\":2,\"sigla\":\"NE\",\"nome\":\"Nordeste\"}},{\"id\":24,\"sigla\":\"RN\",\"nome\":\"Rio Grande do Norte\",\"regiao\":{\"id\":2,\"sigla\":\"NE\",\"nome\":\"Nordeste\"}},{\"id\":25,\"sigla\":\"PB\",\"nome\":\"Paraíba\",\"regiao\":{\"id\":2,\"sigla\":\"NE\",\"nome\":\"Nordeste\"}},{\"id\":26,\"sigla\":\"PE\",\"nome\":\"Pernambuco\",\"regiao\":{\"id\":2,\"sigla\":\"NE\",\"nome\":\"Nordeste\"}},{\"id\":27,\"sigla\":\"AL\",\"nome\":\"Alagoas\",\"regiao\":{\"id\":2,\"sigla\":\"NE\",\"nome\":\"Nordeste\"}},{\"id\":28,\"sigla\":\"SE\",\"nome\":\"Sergipe\",\"regiao\":{\"id\":2,\"sigla\":\"NE\",\"nome\":\"Nordeste\"}},{\"id\":29,\"sigla\":\"BA\",\"nome\":\"Bahia\",\"regiao\":{\"id\":2,\"sigla\":\"NE\",\"nome\":\"Nordeste\"}},{\"id\":31,\"sigla\":\"MG\",\"nome\":\"Minas Gerais\",\"regiao\":{\"id\":3,\"sigla\":\"SE\",\"nome\":\"Sudeste\"}},{\"id\":32,\"sigla\":\"ES\",\"nome\":\"Espírito Santo\",\"regiao\":{\"id\":3,\"sigla\":\"SE\",\"nome\":\"Sudeste\"}},{\"id\":33,\"sigla\":\"RJ\",\"nome\":\"Rio de Janeiro\",\"regiao\":{\"id\":3,\"sigla\":\"SE\",\"nome\":\"Sudeste\"}},{\"id\":35,\"sigla\":\"SP\",\"nome\":\"São Paulo\",\"regiao\":{\"id\":3,\"sigla\":\"SE\",\"nome\":\"Sudeste\"}},{\"id\":41,\"sigla\":\"PR\",\"nome\":\"Paraná\",\"regiao\":{\"id\":4,\"sigla\":\"S\",\"nome\":\"Sul\"}},{\"id\":42,\"sigla\":\"SC\",\"nome\":\"Santa Catarina\",\"regiao\":{\"id\":4,\"sigla\":\"S\",\"nome\":\"Sul\"}},{\"id\":43,\"sigla\":\"RS\",\"nome\":\"Rio Grande do Sul\",\"regiao\":{\"id\":4,\"sigla\":\"S\",\"nome\":\"Sul\"}},{\"id\":50,\"sigla\":\"MS\",\"nome\":\"Mato Grosso do Sul\",\"regiao\":{\"id\":5,\"sigla\":\"CO\",\"nome\":\"Centro-Oeste\"}},{\"id\":51,\"sigla\":\"MT\",\"nome\":\"Mato Grosso\",\"regiao\":{\"id\":5,\"sigla\":\"CO\",\"nome\":\"Centro-Oeste\"}},{\"id\":52,\"sigla\":\"GO\",\"nome\":\"Goiás\",\"regiao\":{\"id\":5,\"sigla\":\"CO\",\"nome\":\"Centro-Oeste\"}},{\"id\":53,\"sigla\":\"DF\",\"nome\":\"Distrito Federal\",\"regiao\":{\"id\":5,\"sigla\":\"CO\",\"nome\":\"Centro-Oeste\"}}]'"
      ]
     },
     "execution_count": 22,
     "metadata": {},
     "output_type": "execute_result"
    }
   ],
   "source": [
    "from urllib import request\n",
    "\n",
    "endereco_api = \"https://servicodados.ibge.gov.br/api/v1/localidades/estados\"\n",
    "\n",
    "resposta = request.urlopen(endereco_api)\n",
    "resposta_bytes = resposta.read()\n",
    "resposta_json_text = resposta_bytes.decode(\"utf-8\")\n",
    "\n",
    "resposta_json_text"
   ]
  },
  {
   "cell_type": "markdown",
   "id": "01753ed2",
   "metadata": {},
   "source": [
    "#### Opção 2: Utilizando biblioteca Requests"
   ]
  },
  {
   "cell_type": "code",
   "execution_count": 23,
   "id": "c3766220",
   "metadata": {},
   "outputs": [
    {
     "data": {
      "text/plain": [
       "'[{\"id\":11,\"sigla\":\"RO\",\"nome\":\"Rondônia\",\"regiao\":{\"id\":1,\"sigla\":\"N\",\"nome\":\"Norte\"}},{\"id\":12,\"sigla\":\"AC\",\"nome\":\"Acre\",\"regiao\":{\"id\":1,\"sigla\":\"N\",\"nome\":\"Norte\"}},{\"id\":13,\"sigla\":\"AM\",\"nome\":\"Amazonas\",\"regiao\":{\"id\":1,\"sigla\":\"N\",\"nome\":\"Norte\"}},{\"id\":14,\"sigla\":\"RR\",\"nome\":\"Roraima\",\"regiao\":{\"id\":1,\"sigla\":\"N\",\"nome\":\"Norte\"}},{\"id\":15,\"sigla\":\"PA\",\"nome\":\"Pará\",\"regiao\":{\"id\":1,\"sigla\":\"N\",\"nome\":\"Norte\"}},{\"id\":16,\"sigla\":\"AP\",\"nome\":\"Amapá\",\"regiao\":{\"id\":1,\"sigla\":\"N\",\"nome\":\"Norte\"}},{\"id\":17,\"sigla\":\"TO\",\"nome\":\"Tocantins\",\"regiao\":{\"id\":1,\"sigla\":\"N\",\"nome\":\"Norte\"}},{\"id\":21,\"sigla\":\"MA\",\"nome\":\"Maranhão\",\"regiao\":{\"id\":2,\"sigla\":\"NE\",\"nome\":\"Nordeste\"}},{\"id\":22,\"sigla\":\"PI\",\"nome\":\"Piauí\",\"regiao\":{\"id\":2,\"sigla\":\"NE\",\"nome\":\"Nordeste\"}},{\"id\":23,\"sigla\":\"CE\",\"nome\":\"Ceará\",\"regiao\":{\"id\":2,\"sigla\":\"NE\",\"nome\":\"Nordeste\"}},{\"id\":24,\"sigla\":\"RN\",\"nome\":\"Rio Grande do Norte\",\"regiao\":{\"id\":2,\"sigla\":\"NE\",\"nome\":\"Nordeste\"}},{\"id\":25,\"sigla\":\"PB\",\"nome\":\"Paraíba\",\"regiao\":{\"id\":2,\"sigla\":\"NE\",\"nome\":\"Nordeste\"}},{\"id\":26,\"sigla\":\"PE\",\"nome\":\"Pernambuco\",\"regiao\":{\"id\":2,\"sigla\":\"NE\",\"nome\":\"Nordeste\"}},{\"id\":27,\"sigla\":\"AL\",\"nome\":\"Alagoas\",\"regiao\":{\"id\":2,\"sigla\":\"NE\",\"nome\":\"Nordeste\"}},{\"id\":28,\"sigla\":\"SE\",\"nome\":\"Sergipe\",\"regiao\":{\"id\":2,\"sigla\":\"NE\",\"nome\":\"Nordeste\"}},{\"id\":29,\"sigla\":\"BA\",\"nome\":\"Bahia\",\"regiao\":{\"id\":2,\"sigla\":\"NE\",\"nome\":\"Nordeste\"}},{\"id\":31,\"sigla\":\"MG\",\"nome\":\"Minas Gerais\",\"regiao\":{\"id\":3,\"sigla\":\"SE\",\"nome\":\"Sudeste\"}},{\"id\":32,\"sigla\":\"ES\",\"nome\":\"Espírito Santo\",\"regiao\":{\"id\":3,\"sigla\":\"SE\",\"nome\":\"Sudeste\"}},{\"id\":33,\"sigla\":\"RJ\",\"nome\":\"Rio de Janeiro\",\"regiao\":{\"id\":3,\"sigla\":\"SE\",\"nome\":\"Sudeste\"}},{\"id\":35,\"sigla\":\"SP\",\"nome\":\"São Paulo\",\"regiao\":{\"id\":3,\"sigla\":\"SE\",\"nome\":\"Sudeste\"}},{\"id\":41,\"sigla\":\"PR\",\"nome\":\"Paraná\",\"regiao\":{\"id\":4,\"sigla\":\"S\",\"nome\":\"Sul\"}},{\"id\":42,\"sigla\":\"SC\",\"nome\":\"Santa Catarina\",\"regiao\":{\"id\":4,\"sigla\":\"S\",\"nome\":\"Sul\"}},{\"id\":43,\"sigla\":\"RS\",\"nome\":\"Rio Grande do Sul\",\"regiao\":{\"id\":4,\"sigla\":\"S\",\"nome\":\"Sul\"}},{\"id\":50,\"sigla\":\"MS\",\"nome\":\"Mato Grosso do Sul\",\"regiao\":{\"id\":5,\"sigla\":\"CO\",\"nome\":\"Centro-Oeste\"}},{\"id\":51,\"sigla\":\"MT\",\"nome\":\"Mato Grosso\",\"regiao\":{\"id\":5,\"sigla\":\"CO\",\"nome\":\"Centro-Oeste\"}},{\"id\":52,\"sigla\":\"GO\",\"nome\":\"Goiás\",\"regiao\":{\"id\":5,\"sigla\":\"CO\",\"nome\":\"Centro-Oeste\"}},{\"id\":53,\"sigla\":\"DF\",\"nome\":\"Distrito Federal\",\"regiao\":{\"id\":5,\"sigla\":\"CO\",\"nome\":\"Centro-Oeste\"}}]'"
      ]
     },
     "execution_count": 23,
     "metadata": {},
     "output_type": "execute_result"
    }
   ],
   "source": [
    "# !pip install requests\n",
    "import requests\n",
    "\n",
    "endereco_api = \"https://servicodados.ibge.gov.br/api/v1/localidades/estados\"\n",
    "\n",
    "resposta = requests.get(endereco_api)\n",
    "resposta_json_text = resposta.text\n",
    "\n",
    "resposta_json_text"
   ]
  },
  {
   "cell_type": "markdown",
   "id": "0b47d47d",
   "metadata": {},
   "source": [
    "### 4.2. Lendo arquivo JSON"
   ]
  },
  {
   "cell_type": "code",
   "execution_count": 24,
   "id": "964b6d53",
   "metadata": {},
   "outputs": [
    {
     "data": {
      "text/html": [
       "<div>\n",
       "<style scoped>\n",
       "    .dataframe tbody tr th:only-of-type {\n",
       "        vertical-align: middle;\n",
       "    }\n",
       "\n",
       "    .dataframe tbody tr th {\n",
       "        vertical-align: top;\n",
       "    }\n",
       "\n",
       "    .dataframe thead th {\n",
       "        text-align: right;\n",
       "    }\n",
       "</style>\n",
       "<table border=\"1\" class=\"dataframe\">\n",
       "  <thead>\n",
       "    <tr style=\"text-align: right;\">\n",
       "      <th></th>\n",
       "      <th>id</th>\n",
       "      <th>sigla</th>\n",
       "      <th>nome</th>\n",
       "      <th>regiao</th>\n",
       "    </tr>\n",
       "  </thead>\n",
       "  <tbody>\n",
       "    <tr>\n",
       "      <th>0</th>\n",
       "      <td>11</td>\n",
       "      <td>RO</td>\n",
       "      <td>Rondônia</td>\n",
       "      <td>{'id': 1, 'sigla': 'N', 'nome': 'Norte'}</td>\n",
       "    </tr>\n",
       "    <tr>\n",
       "      <th>1</th>\n",
       "      <td>12</td>\n",
       "      <td>AC</td>\n",
       "      <td>Acre</td>\n",
       "      <td>{'id': 1, 'sigla': 'N', 'nome': 'Norte'}</td>\n",
       "    </tr>\n",
       "    <tr>\n",
       "      <th>2</th>\n",
       "      <td>13</td>\n",
       "      <td>AM</td>\n",
       "      <td>Amazonas</td>\n",
       "      <td>{'id': 1, 'sigla': 'N', 'nome': 'Norte'}</td>\n",
       "    </tr>\n",
       "    <tr>\n",
       "      <th>3</th>\n",
       "      <td>14</td>\n",
       "      <td>RR</td>\n",
       "      <td>Roraima</td>\n",
       "      <td>{'id': 1, 'sigla': 'N', 'nome': 'Norte'}</td>\n",
       "    </tr>\n",
       "    <tr>\n",
       "      <th>4</th>\n",
       "      <td>15</td>\n",
       "      <td>PA</td>\n",
       "      <td>Pará</td>\n",
       "      <td>{'id': 1, 'sigla': 'N', 'nome': 'Norte'}</td>\n",
       "    </tr>\n",
       "  </tbody>\n",
       "</table>\n",
       "</div>"
      ],
      "text/plain": [
       "   id sigla      nome                                    regiao\n",
       "0  11    RO  Rondônia  {'id': 1, 'sigla': 'N', 'nome': 'Norte'}\n",
       "1  12    AC      Acre  {'id': 1, 'sigla': 'N', 'nome': 'Norte'}\n",
       "2  13    AM  Amazonas  {'id': 1, 'sigla': 'N', 'nome': 'Norte'}\n",
       "3  14    RR   Roraima  {'id': 1, 'sigla': 'N', 'nome': 'Norte'}\n",
       "4  15    PA      Pará  {'id': 1, 'sigla': 'N', 'nome': 'Norte'}"
      ]
     },
     "execution_count": 24,
     "metadata": {},
     "output_type": "execute_result"
    }
   ],
   "source": [
    "# !pip install pandas\n",
    "import pandas as pd\n",
    "\n",
    "# lendo json para o dataframe\n",
    "df_estados = pd.read_json(resposta_json_text)\n",
    "\n",
    "df_estados.head()"
   ]
  },
  {
   "cell_type": "markdown",
   "id": "260c3770",
   "metadata": {},
   "source": [
    "### 4.3. Filtrando e renomeando as colunas necessárias"
   ]
  },
  {
   "cell_type": "code",
   "execution_count": 25,
   "id": "b49c4018",
   "metadata": {},
   "outputs": [
    {
     "data": {
      "text/html": [
       "<div>\n",
       "<style scoped>\n",
       "    .dataframe tbody tr th:only-of-type {\n",
       "        vertical-align: middle;\n",
       "    }\n",
       "\n",
       "    .dataframe tbody tr th {\n",
       "        vertical-align: top;\n",
       "    }\n",
       "\n",
       "    .dataframe thead th {\n",
       "        text-align: right;\n",
       "    }\n",
       "</style>\n",
       "<table border=\"1\" class=\"dataframe\">\n",
       "  <thead>\n",
       "    <tr style=\"text-align: right;\">\n",
       "      <th></th>\n",
       "      <th>id</th>\n",
       "      <th>nome</th>\n",
       "      <th>uf</th>\n",
       "    </tr>\n",
       "  </thead>\n",
       "  <tbody>\n",
       "    <tr>\n",
       "      <th>0</th>\n",
       "      <td>11</td>\n",
       "      <td>Rondônia</td>\n",
       "      <td>RO</td>\n",
       "    </tr>\n",
       "    <tr>\n",
       "      <th>1</th>\n",
       "      <td>12</td>\n",
       "      <td>Acre</td>\n",
       "      <td>AC</td>\n",
       "    </tr>\n",
       "    <tr>\n",
       "      <th>2</th>\n",
       "      <td>13</td>\n",
       "      <td>Amazonas</td>\n",
       "      <td>AM</td>\n",
       "    </tr>\n",
       "    <tr>\n",
       "      <th>3</th>\n",
       "      <td>14</td>\n",
       "      <td>Roraima</td>\n",
       "      <td>RR</td>\n",
       "    </tr>\n",
       "    <tr>\n",
       "      <th>4</th>\n",
       "      <td>15</td>\n",
       "      <td>Pará</td>\n",
       "      <td>PA</td>\n",
       "    </tr>\n",
       "  </tbody>\n",
       "</table>\n",
       "</div>"
      ],
      "text/plain": [
       "   id      nome  uf\n",
       "0  11  Rondônia  RO\n",
       "1  12      Acre  AC\n",
       "2  13  Amazonas  AM\n",
       "3  14   Roraima  RR\n",
       "4  15      Pará  PA"
      ]
     },
     "execution_count": 25,
     "metadata": {},
     "output_type": "execute_result"
    }
   ],
   "source": [
    "# filtrando o dataframe\n",
    "df_estados_filtrado = df_estados[[\"id\",\"nome\",\"sigla\"]]\n",
    "\n",
    "# renomeando colunas\n",
    "nome_colunas_estados = [\"id\",\"nome\",\"uf\"]\n",
    "df_estados_filtrado.columns = nome_colunas_estados\n",
    "\n",
    "df_estados_filtrado.head()"
   ]
  },
  {
   "cell_type": "markdown",
   "id": "f8e13dc9",
   "metadata": {},
   "source": [
    "### 4.4. Exportar para CSV"
   ]
  },
  {
   "cell_type": "code",
   "execution_count": 26,
   "id": "d2141541",
   "metadata": {},
   "outputs": [],
   "source": [
    "# motivo do encoding\n",
    "# https://qastack.com.br/software/187169/how-to-detect-the-encoding-of-a-file\n",
    "# http://codeftw.blogspot.com/2009/07/how-to-find-character-encoding-of-text.html\n",
    "\n",
    "df_estados_filtrado.to_csv(\"./estados.csv\", sep=\";\", index=None, encoding=\"iso-8859-1\")"
   ]
  },
  {
   "cell_type": "markdown",
   "id": "55c0b0ea-7a59-4685-870c-9e089818fa93",
   "metadata": {},
   "source": [
    "## Opção 2: Fazendo WebScraping de página contendo os dados\n",
    "Essa opção deve ser utilizada apenas quando não temos uma interface de API para consulta\n",
    "\n",
    "(https://www.oobj.com.br/bc/article/quais-os-códigos-de-cada-uf-no-brasil-465.html)\n",
    "(https://www.todamateria.com.br/estados-do-brasil)"
   ]
  },
  {
   "cell_type": "markdown",
   "id": "1a1da77c-a936-4218-95ec-51e5af3601e3",
   "metadata": {},
   "source": [
    "# 5. Gerar lista de Cidades"
   ]
  },
  {
   "cell_type": "markdown",
   "id": "96c743fc",
   "metadata": {},
   "source": [
    "## 5.1. Lendo arquivo excel"
   ]
  },
  {
   "cell_type": "code",
   "execution_count": 27,
   "id": "577de5ba",
   "metadata": {},
   "outputs": [
    {
     "data": {
      "text/html": [
       "<div>\n",
       "<style scoped>\n",
       "    .dataframe tbody tr th:only-of-type {\n",
       "        vertical-align: middle;\n",
       "    }\n",
       "\n",
       "    .dataframe tbody tr th {\n",
       "        vertical-align: top;\n",
       "    }\n",
       "\n",
       "    .dataframe thead th {\n",
       "        text-align: right;\n",
       "    }\n",
       "</style>\n",
       "<table border=\"1\" class=\"dataframe\">\n",
       "  <thead>\n",
       "    <tr style=\"text-align: right;\">\n",
       "      <th></th>\n",
       "      <th>UF</th>\n",
       "      <th>Nome_UF</th>\n",
       "      <th>Região Geográfica Intermediária</th>\n",
       "      <th>Nome Região Geográfica Intermediária</th>\n",
       "      <th>Região Geográfica Imediata</th>\n",
       "      <th>Nome Região Geográfica Imediata</th>\n",
       "      <th>Mesorregião Geográfica</th>\n",
       "      <th>Nome_Mesorregião</th>\n",
       "      <th>Microrregião Geográfica</th>\n",
       "      <th>Nome_Microrregião</th>\n",
       "      <th>Município</th>\n",
       "      <th>Código Município Completo</th>\n",
       "      <th>Nome_Município</th>\n",
       "    </tr>\n",
       "  </thead>\n",
       "  <tbody>\n",
       "    <tr>\n",
       "      <th>0</th>\n",
       "      <td>11</td>\n",
       "      <td>Rondônia</td>\n",
       "      <td>1102</td>\n",
       "      <td>Ji-Paraná</td>\n",
       "      <td>110005</td>\n",
       "      <td>Cacoal</td>\n",
       "      <td>2</td>\n",
       "      <td>Leste Rondoniense</td>\n",
       "      <td>6</td>\n",
       "      <td>Cacoal</td>\n",
       "      <td>15</td>\n",
       "      <td>1100015</td>\n",
       "      <td>Alta Floresta D'Oeste</td>\n",
       "    </tr>\n",
       "    <tr>\n",
       "      <th>1</th>\n",
       "      <td>11</td>\n",
       "      <td>Rondônia</td>\n",
       "      <td>1102</td>\n",
       "      <td>Ji-Paraná</td>\n",
       "      <td>110005</td>\n",
       "      <td>Cacoal</td>\n",
       "      <td>2</td>\n",
       "      <td>Leste Rondoniense</td>\n",
       "      <td>6</td>\n",
       "      <td>Cacoal</td>\n",
       "      <td>379</td>\n",
       "      <td>1100379</td>\n",
       "      <td>Alto Alegre dos Parecis</td>\n",
       "    </tr>\n",
       "    <tr>\n",
       "      <th>2</th>\n",
       "      <td>11</td>\n",
       "      <td>Rondônia</td>\n",
       "      <td>1101</td>\n",
       "      <td>Porto Velho</td>\n",
       "      <td>110002</td>\n",
       "      <td>Ariquemes</td>\n",
       "      <td>2</td>\n",
       "      <td>Leste Rondoniense</td>\n",
       "      <td>3</td>\n",
       "      <td>Ariquemes</td>\n",
       "      <td>403</td>\n",
       "      <td>1100403</td>\n",
       "      <td>Alto Paraíso</td>\n",
       "    </tr>\n",
       "    <tr>\n",
       "      <th>3</th>\n",
       "      <td>11</td>\n",
       "      <td>Rondônia</td>\n",
       "      <td>1102</td>\n",
       "      <td>Ji-Paraná</td>\n",
       "      <td>110004</td>\n",
       "      <td>Ji-Paraná</td>\n",
       "      <td>2</td>\n",
       "      <td>Leste Rondoniense</td>\n",
       "      <td>5</td>\n",
       "      <td>Alvorada D'Oeste</td>\n",
       "      <td>346</td>\n",
       "      <td>1100346</td>\n",
       "      <td>Alvorada D'Oeste</td>\n",
       "    </tr>\n",
       "    <tr>\n",
       "      <th>4</th>\n",
       "      <td>11</td>\n",
       "      <td>Rondônia</td>\n",
       "      <td>1101</td>\n",
       "      <td>Porto Velho</td>\n",
       "      <td>110002</td>\n",
       "      <td>Ariquemes</td>\n",
       "      <td>2</td>\n",
       "      <td>Leste Rondoniense</td>\n",
       "      <td>3</td>\n",
       "      <td>Ariquemes</td>\n",
       "      <td>23</td>\n",
       "      <td>1100023</td>\n",
       "      <td>Ariquemes</td>\n",
       "    </tr>\n",
       "  </tbody>\n",
       "</table>\n",
       "</div>"
      ],
      "text/plain": [
       "   UF   Nome_UF  Região Geográfica Intermediária  \\\n",
       "0  11  Rondônia                             1102   \n",
       "1  11  Rondônia                             1102   \n",
       "2  11  Rondônia                             1101   \n",
       "3  11  Rondônia                             1102   \n",
       "4  11  Rondônia                             1101   \n",
       "\n",
       "  Nome Região Geográfica Intermediária  Região Geográfica Imediata  \\\n",
       "0                            Ji-Paraná                      110005   \n",
       "1                            Ji-Paraná                      110005   \n",
       "2                          Porto Velho                      110002   \n",
       "3                            Ji-Paraná                      110004   \n",
       "4                          Porto Velho                      110002   \n",
       "\n",
       "  Nome Região Geográfica Imediata  Mesorregião Geográfica   Nome_Mesorregião  \\\n",
       "0                          Cacoal                       2  Leste Rondoniense   \n",
       "1                          Cacoal                       2  Leste Rondoniense   \n",
       "2                       Ariquemes                       2  Leste Rondoniense   \n",
       "3                       Ji-Paraná                       2  Leste Rondoniense   \n",
       "4                       Ariquemes                       2  Leste Rondoniense   \n",
       "\n",
       "   Microrregião Geográfica Nome_Microrregião  Município  \\\n",
       "0                        6            Cacoal         15   \n",
       "1                        6            Cacoal        379   \n",
       "2                        3         Ariquemes        403   \n",
       "3                        5  Alvorada D'Oeste        346   \n",
       "4                        3         Ariquemes         23   \n",
       "\n",
       "   Código Município Completo           Nome_Município  \n",
       "0                    1100015    Alta Floresta D'Oeste  \n",
       "1                    1100379  Alto Alegre dos Parecis  \n",
       "2                    1100403             Alto Paraíso  \n",
       "3                    1100346         Alvorada D'Oeste  \n",
       "4                    1100023                Ariquemes  "
      ]
     },
     "execution_count": 27,
     "metadata": {},
     "output_type": "execute_result"
    }
   ],
   "source": [
    "# !pip install pandas\n",
    "\n",
    "# necessário para importar .xls\n",
    "# !pip install xlrd\n",
    "\n",
    "# necessário para importar .xlsx\n",
    "# !pip install openpyxl\n",
    "\n",
    "df_cidades = pd.read_excel(caminho_arquivo_excel)\n",
    "\n",
    "df_cidades.head()\n"
   ]
  },
  {
   "cell_type": "markdown",
   "id": "5a3bd4a1",
   "metadata": {},
   "source": [
    "## 5.2. Filtrando e renomeando as colunas necessárias"
   ]
  },
  {
   "cell_type": "code",
   "execution_count": 29,
   "id": "debc4995",
   "metadata": {},
   "outputs": [
    {
     "data": {
      "text/html": [
       "<div>\n",
       "<style scoped>\n",
       "    .dataframe tbody tr th:only-of-type {\n",
       "        vertical-align: middle;\n",
       "    }\n",
       "\n",
       "    .dataframe tbody tr th {\n",
       "        vertical-align: top;\n",
       "    }\n",
       "\n",
       "    .dataframe thead th {\n",
       "        text-align: right;\n",
       "    }\n",
       "</style>\n",
       "<table border=\"1\" class=\"dataframe\">\n",
       "  <thead>\n",
       "    <tr style=\"text-align: right;\">\n",
       "      <th></th>\n",
       "      <th>id</th>\n",
       "      <th>nome</th>\n",
       "      <th>uf</th>\n",
       "    </tr>\n",
       "  </thead>\n",
       "  <tbody>\n",
       "    <tr>\n",
       "      <th>0</th>\n",
       "      <td>1100015</td>\n",
       "      <td>Alta Floresta D'Oeste</td>\n",
       "      <td>11</td>\n",
       "    </tr>\n",
       "    <tr>\n",
       "      <th>1</th>\n",
       "      <td>1100379</td>\n",
       "      <td>Alto Alegre dos Parecis</td>\n",
       "      <td>11</td>\n",
       "    </tr>\n",
       "    <tr>\n",
       "      <th>2</th>\n",
       "      <td>1100403</td>\n",
       "      <td>Alto Paraíso</td>\n",
       "      <td>11</td>\n",
       "    </tr>\n",
       "    <tr>\n",
       "      <th>3</th>\n",
       "      <td>1100346</td>\n",
       "      <td>Alvorada D'Oeste</td>\n",
       "      <td>11</td>\n",
       "    </tr>\n",
       "    <tr>\n",
       "      <th>4</th>\n",
       "      <td>1100023</td>\n",
       "      <td>Ariquemes</td>\n",
       "      <td>11</td>\n",
       "    </tr>\n",
       "  </tbody>\n",
       "</table>\n",
       "</div>"
      ],
      "text/plain": [
       "        id                     nome  uf\n",
       "0  1100015    Alta Floresta D'Oeste  11\n",
       "1  1100379  Alto Alegre dos Parecis  11\n",
       "2  1100403             Alto Paraíso  11\n",
       "3  1100346         Alvorada D'Oeste  11\n",
       "4  1100023                Ariquemes  11"
      ]
     },
     "execution_count": 29,
     "metadata": {},
     "output_type": "execute_result"
    }
   ],
   "source": [
    "# filtrando o dataframe\n",
    "df_cidades_filtrado = df_cidades[[\"Código Município Completo\", \"Nome_Município\", \"UF\"]]\n",
    "\n",
    "# renomeando colunas\n",
    "nome_colunas_cidades = [\"id\",\"nome\",\"uf\"]\n",
    "df_cidades_filtrado.columns = nome_colunas_estados\n",
    "\n",
    "df_cidades_filtrado.head()"
   ]
  },
  {
   "cell_type": "markdown",
   "id": "7be1d4b9",
   "metadata": {},
   "source": [
    "## 5.3. Exportar para CSV"
   ]
  },
  {
   "cell_type": "code",
   "execution_count": 31,
   "id": "f4081670",
   "metadata": {},
   "outputs": [],
   "source": [
    "# motivo do encoding\n",
    "# https://qastack.com.br/software/187169/how-to-detect-the-encoding-of-a-file\n",
    "# http://codeftw.blogspot.com/2009/07/how-to-find-character-encoding-of-text.html\n",
    "\n",
    "df_cidades_filtrado.to_csv(\"./cidades.csv\", sep=\";\", index=None, encoding=\"iso-8859-1\")\n"
   ]
  },
  {
   "cell_type": "markdown",
   "id": "7dd31bae",
   "metadata": {},
   "source": [
    "---"
   ]
  }
 ],
 "metadata": {
  "kernelspec": {
   "display_name": "Python 3 (ipykernel)",
   "language": "python",
   "name": "python3"
  },
  "language_info": {
   "codemirror_mode": {
    "name": "ipython",
    "version": 3
   },
   "file_extension": ".py",
   "mimetype": "text/x-python",
   "name": "python",
   "nbconvert_exporter": "python",
   "pygments_lexer": "ipython3",
   "version": "3.9.7"
  }
 },
 "nbformat": 4,
 "nbformat_minor": 5
}
